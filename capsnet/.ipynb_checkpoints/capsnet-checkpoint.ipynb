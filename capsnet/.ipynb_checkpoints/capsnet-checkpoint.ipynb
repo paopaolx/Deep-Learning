{
 "cells": [
  {
   "cell_type": "code",
   "execution_count": 1,
   "metadata": {},
   "outputs": [],
   "source": [
    "import tensorflow as tf\n",
    "import numpy as np\n",
    "%matplotlib inline\n",
    "import matplotlib.pyplot as plt\n",
    "from tensorflow.examples.tutorials.mnist import input_data"
   ]
  },
  {
   "cell_type": "markdown",
   "metadata": {},
   "source": [
    "## 读取数据集"
   ]
  },
  {
   "cell_type": "code",
   "execution_count": 5,
   "metadata": {},
   "outputs": [
    {
     "name": "stdout",
     "output_type": "stream",
     "text": [
      "WARNING:tensorflow:From E:\\App\\Anaconda3\\envs\\tensorflow\\lib\\site-packages\\tensorflow\\contrib\\learn\\python\\learn\\datasets\\mnist.py:262: extract_images (from tensorflow.contrib.learn.python.learn.datasets.mnist) is deprecated and will be removed in a future version.\n",
      "Instructions for updating:\n",
      "Please use tf.data to implement this functionality.\n",
      "Extracting mnist_data/train-images-idx3-ubyte.gz\n",
      "WARNING:tensorflow:From E:\\App\\Anaconda3\\envs\\tensorflow\\lib\\site-packages\\tensorflow\\contrib\\learn\\python\\learn\\datasets\\mnist.py:267: extract_labels (from tensorflow.contrib.learn.python.learn.datasets.mnist) is deprecated and will be removed in a future version.\n",
      "Instructions for updating:\n",
      "Please use tf.data to implement this functionality.\n",
      "Extracting mnist_data/train-labels-idx1-ubyte.gz\n",
      "Extracting mnist_data/t10k-images-idx3-ubyte.gz\n",
      "Extracting mnist_data/t10k-labels-idx1-ubyte.gz\n",
      "WARNING:tensorflow:From E:\\App\\Anaconda3\\envs\\tensorflow\\lib\\site-packages\\tensorflow\\contrib\\learn\\python\\learn\\datasets\\mnist.py:290: DataSet.__init__ (from tensorflow.contrib.learn.python.learn.datasets.mnist) is deprecated and will be removed in a future version.\n",
      "Instructions for updating:\n",
      "Please use alternatives such as official/mnist/dataset.py from tensorflow/models.\n"
     ]
    }
   ],
   "source": [
    "mninst = input_data.read_data_sets('mnist_data/')"
   ]
  },
  {
   "cell_type": "markdown",
   "metadata": {},
   "source": [
    "## 构建capsnet网络模型"
   ]
  },
  {
   "cell_type": "markdown",
   "metadata": {},
   "source": [
    "1.Input -- 输入层"
   ]
  },
  {
   "cell_type": "code",
   "execution_count": 7,
   "metadata": {},
   "outputs": [],
   "source": [
    "x = tf.placeholder(shape=[None, 28, 28, 1], dtype=tf.float32, name='x')  # 未知个数，28x28大小的图像，1个通道"
   ]
  },
  {
   "cell_type": "markdown",
   "metadata": {},
   "source": [
    "2.conv1 -- 普通卷积层，提取低级别特征"
   ]
  },
  {
   "cell_type": "code",
   "execution_count": 8,
   "metadata": {},
   "outputs": [],
   "source": [
    "# 定义卷积层的参数\n",
    "conv1_params = {\n",
    "    'filters': 256,  # 输出通道数\n",
    "    'kernel_size': 9,  # 滤波器大小\n",
    "    'strides': 1,  # 步长\n",
    "    'padding': 'valid',  # 无填充\n",
    "    'activation': tf.nn.relu,  # 激活函数\n",
    "}\n",
    "conv1 = tf.layers.conv2d(x, name='conv1', **conv1_params)  # 输出数据尺寸：[None, 20, 20, 256]"
   ]
  },
  {
   "cell_type": "markdown",
   "metadata": {},
   "source": [
    "3.conv2(primary capsules) -- 普通卷积层，存储低级别特征向量"
   ]
  },
  {
   "cell_type": "code",
   "execution_count": 9,
   "metadata": {},
   "outputs": [],
   "source": [
    "# 定义卷积层的参数\n",
    "caps1_n_maps = 32  # 特征图个数\n",
    "caps1_n_dims = 8  # 每张特征图的深度（维数）\n",
    "conv2_params = {\n",
    "    'filters': caps1_n_maps*caps1_n_dims,  # 输出通道数(实际用了32个滤波器滤了8遍，相当于256个)\n",
    "    'kernel_size': 9,  # 滤波器大小\n",
    "    'strides': 2,  # 步长\n",
    "    'padding': 'valid',  # 无填充\n",
    "    'activation': tf.nn.relu,  # 激活函数\n",
    "}\n",
    "conv2 = tf.layers.conv2d(conv1, name='conv2', **conv2_params)  # 输出数据尺寸：[None, 6, 6, 256]\n",
    "# 此层(PrimaryCaps)每个Capsule(1x8 向量)需要和下层(DigitCaps)每个Capsule(1x16 向量)全连接，\n",
    "# 那么最好生成一个变量含有1152个Capsule，因此将conv2的shape转成[?, 1152, 8](总元素和6x6x256一样多)\n",
    "cops1_n_caps = caps1_n_maps * 6 * 6"
   ]
  },
  {
   "cell_type": "code",
   "execution_count": null,
   "metadata": {},
   "outputs": [],
   "source": []
  }
 ],
 "metadata": {
  "kernelspec": {
   "display_name": "Python 3",
   "language": "python",
   "name": "python3"
  },
  "language_info": {
   "codemirror_mode": {
    "name": "ipython",
    "version": 3
   },
   "file_extension": ".py",
   "mimetype": "text/x-python",
   "name": "python",
   "nbconvert_exporter": "python",
   "pygments_lexer": "ipython3",
   "version": "3.6.7"
  }
 },
 "nbformat": 4,
 "nbformat_minor": 2
}
